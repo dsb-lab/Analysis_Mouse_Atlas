{
 "cells": [
  {
   "cell_type": "code",
   "execution_count": 1,
   "metadata": {},
   "outputs": [],
   "source": [
    "import scanpy as scp\n",
    "import numpy as np\n",
    "import matplotlib.pyplot as plt\n",
    "import seaborn as sb\n",
    "import scipy as sp\n",
    "import pandas as pd\n",
    "import umap\n",
    "\n",
    "from scCustomFunctions import *\n",
    "from parameters import *\n",
    "\n",
    "import warnings\n",
    "warnings.filterwarnings('ignore')"
   ]
  },
  {
   "cell_type": "code",
   "execution_count": 2,
   "metadata": {},
   "outputs": [],
   "source": [
    "a = loadData(QC_imputed=True,Normalized=True,Log1p=True)"
   ]
  },
  {
   "cell_type": "markdown",
   "metadata": {},
   "source": [
    "# Compute corrections\n",
    "\n",
    "We compute batch corrections using two different algorithms\n",
    "\n",
    "1. Harmony\n",
    "2. Fast MNN (MNN algorithm used on the first 50 pcs)\n",
    "\n",
    "**Results:** Raw data shows that it is required to batch correct the datasets. Fast MNN has not been able to integrate all the datasets. On the other hand, Harmony has manage to do it with an appropiate mixing."
   ]
  },
  {
   "cell_type": "code",
   "execution_count": null,
   "metadata": {
    "tags": []
   },
   "outputs": [
    {
     "name": "stderr",
     "output_type": "stream",
     "text": [
      "... storing 'sample' as categorical\n",
      "... storing 'stage' as categorical\n",
      "2021-07-30 15:24:09,869 - harmonypy - INFO - Iteration 1 of 10\n",
      "2021-07-30 15:24:10,248 - harmonypy - INFO - Iteration 2 of 10\n",
      "2021-07-30 15:24:10,596 - harmonypy - INFO - Iteration 3 of 10\n",
      "2021-07-30 15:24:10,952 - harmonypy - INFO - Iteration 4 of 10\n",
      "2021-07-30 15:24:11,311 - harmonypy - INFO - Iteration 5 of 10\n",
      "2021-07-30 15:24:11,668 - harmonypy - INFO - Iteration 6 of 10\n",
      "2021-07-30 15:24:11,853 - harmonypy - INFO - Iteration 7 of 10\n",
      "2021-07-30 15:24:12,039 - harmonypy - INFO - Iteration 8 of 10\n",
      "2021-07-30 15:24:12,161 - harmonypy - INFO - Iteration 9 of 10\n",
      "2021-07-30 15:24:12,291 - harmonypy - INFO - Iteration 10 of 10\n",
      "2021-07-30 15:24:12,414 - harmonypy - INFO - Converged after 10 iterations\n"
     ]
    },
    {
     "name": "stdout",
     "output_type": "stream",
     "text": [
      "Performing cosine normalization...\n",
      "Starting MNN correct iteration. Reference batch: 0\n",
      "Step 1 of 2: processing batch 1\n",
      "  Looking for MNNs...\n",
      "  Computing correction vectors...\n",
      "  Adjusting variance...\n",
      "  Applying correction...\n",
      "Step 2 of 2: processing batch 2\n",
      "  Looking for MNNs...\n",
      "  Computing correction vectors...\n",
      "  Adjusting variance...\n",
      "  Applying correction...\n",
      "MNN correction complete. Gathering output...\n",
      "Packing AnnData object...\n",
      "Done.\n"
     ]
    }
   ],
   "source": [
    "fig1,ax1 = plt.subplots(5,2,figsize=[20,50])\n",
    "fig2,ax2 = plt.subplots(5,2,figsize=[20,50])\n",
    "fig3,ax3 = plt.subplots(5,2,figsize=[20,50])\n",
    "for j,stage in enumerate(np.sort(a.obs[\"stage\"].unique()[:1])):\n",
    "    \n",
    "    posx = j//2\n",
    "    posy = j%2\n",
    "\n",
    "    b = a[a.obs[\"stage\"]==stage,:].copy()\n",
    "    b.obs[\"stage\"]=b.obs[\"stage\"].astype(str)\n",
    "    b.obs[\"sample\"]=b.obs[\"sample\"].astype(str)\n",
    "    scp.pp.highly_variable_genes(b,flavor=HVG_METHOD)\n",
    "    remove_highly_variable_genes(b,SKIP_GENES) #Remove genes related with sex or cell cycle\n",
    "    \n",
    "    #Raw\n",
    "    scp.pp.pca(b,n_comps=N_PCS,use_highly_variable=USE_HVGs)\n",
    "    scp.pp.neighbors(b,knn=N_NEIGBOURS,n_pcs=N_PCS)\n",
    "\n",
    "    umap_seed_with_paga(b,LOUVAIN_INITIALISATION) #Not used because the random state is not properly working\n",
    "    scp.tl.umap(b,init_pos=\"paga\")\n",
    "    \n",
    "    sb.scatterplot(b.obsm[\"X_umap\"][:,0],b.obsm[\"X_umap\"][:,1],hue=b.obs[\"sample\"],s=10,ax=ax1[posx,posy])\n",
    "    ax1[posx,posy].set_title(stage)\n",
    "    \n",
    "    np.save(\"dataOut/4_Batch_Correction/PCA_\"+stage,b.obsm[\"X_pca\"])\n",
    "    np.save(\"dataOut/4_Batch_Correction/UMAP_\"+stage,b.obsm[\"X_umap\"])\n",
    "    \n",
    "    #Harmony\n",
    "    scp.external.pp.harmony_integrate(b,\"sample\")\n",
    "    scp.pp.neighbors(b,knn=N_NEIGBOURS,n_pcs=N_PCS,use_rep=\"X_pca_harmony\")\n",
    "\n",
    "    umap_seed_with_paga(b,LOUVAIN_INITIALISATION) #Not used because the random state is not properly working\n",
    "    scp.tl.umap(b,init_pos=\"paga\")\n",
    "    \n",
    "    sb.scatterplot(b.obsm[\"X_umap\"][:,0],b.obsm[\"X_umap\"][:,1],hue=b.obs[\"sample\"],s=10,ax=ax2[posx,posy])\n",
    "    ax2[posx,posy].set_title(stage)\n",
    "\n",
    "    np.save(\"dataOut/4_Batch_Correction/PCA_harmony_\"+stage,b.obsm[\"X_pca_harmony\"])\n",
    "    np.save(\"dataOut/4_Batch_Correction/UMAP_harmony_\"+stage,b.obsm[\"X_umap\"])\n",
    "    \n",
    "    #MNN Some bug on the method and cannot be installed\n",
    "    fast_mnn_correct(b,\"sample\",k=N_NEIGBOURS)\n",
    "    scp.pp.neighbors(b,knn=N_NEIGBOURS,n_pcs=N_PCS,use_rep=\"X_pca_MNN\")\n",
    "    \n",
    "    umap_seed_with_paga(b,LOUVAIN_INITIALISATION)\n",
    "    scp.tl.umap(b,init_pos=\"paga\")\n",
    "    \n",
    "    sb.scatterplot(b.obsm[\"X_umap\"][:,0],b.obsm[\"X_umap\"][:,1],hue=b.obs[\"sample\"],s=10,ax=ax3[posx,posy])\n",
    "    ax3[posx,posy].set_title(stage)\n",
    "\n",
    "    np.save(\"dataOut/4_Batch_Correction/PCA_mnn\"+stage+\".png\",b.obsm[\"X_pca_MNN\"])\n",
    "    np.save(\"dataOut/4_Batch_Correction/UMAP_mnn\"+stage+\".png\",b.obsm[\"X_umap\"])\n",
    "    \n",
    "fig1.savefig(\"Plots/4_Batch_Correction/Stages_without_correction_umap.png\",bbox_inches=\"tight\",transparent=True)\n",
    "fig2.savefig(\"Plots/4_Batch_Correction/Stages_Harmony_umap.png\",bbox_inches=\"tight\",transparent=True)\n",
    "fig3.savefig(\"Plots/4_Batch_Correction/Stages_MNN_umap.png\",bbox_inches=\"tight\",transparent=True)"
   ]
  },
  {
   "cell_type": "code",
   "execution_count": null,
   "metadata": {},
   "outputs": [],
   "source": []
  }
 ],
 "metadata": {
  "hide_input": false,
  "kernelspec": {
   "display_name": "Python 3",
   "language": "python",
   "name": "python3"
  },
  "language_info": {
   "codemirror_mode": {
    "name": "ipython",
    "version": 3
   },
   "file_extension": ".py",
   "mimetype": "text/x-python",
   "name": "python",
   "nbconvert_exporter": "python",
   "pygments_lexer": "ipython3",
   "version": "3.8.8"
  },
  "toc": {
   "base_numbering": 1,
   "nav_menu": {},
   "number_sections": true,
   "sideBar": true,
   "skip_h1_title": false,
   "title_cell": "Table of Contents",
   "title_sidebar": "Contents",
   "toc_cell": false,
   "toc_position": {
    "height": "calc(100% - 180px)",
    "left": "10px",
    "top": "150px",
    "width": "384px"
   },
   "toc_section_display": true,
   "toc_window_display": true
  }
 },
 "nbformat": 4,
 "nbformat_minor": 4
}
