{
 "cells": [
  {
   "cell_type": "markdown",
   "metadata": {},
   "source": [
    "**Execution time ~30'**\n",
    "\n",
    "The purpose of this script is to take the data as it was provided by the authors and convert it to an annotated data format for the following analysis."
   ]
  },
  {
   "cell_type": "markdown",
   "metadata": {},
   "source": [
    "# Load the required modules"
   ]
  },
  {
   "cell_type": "code",
   "execution_count": 1,
   "metadata": {},
   "outputs": [],
   "source": [
    "import scanpy as sp\n",
    "import numpy as np\n",
    "import scipy as sc\n",
    "import matplotlib.pyplot as plt\n",
    "from scipy.io import mmread, mminfo, mmwrite\n",
    "import pandas as pd"
   ]
  },
  {
   "cell_type": "markdown",
   "metadata": {},
   "source": [
    "# Load the count matrix and create the Annotated data object"
   ]
  },
  {
   "cell_type": "code",
   "execution_count": 2,
   "metadata": {},
   "outputs": [],
   "source": [
    "#Load the count matrix and create the Ann. object\n",
    "adata = sp.AnnData(mmread(\"./data/raw/raw_counts.mtx\").tocsr().transpose())"
   ]
  },
  {
   "cell_type": "markdown",
   "metadata": {},
   "source": [
    "# Add the data of interest for the genes"
   ]
  },
  {
   "cell_type": "code",
   "execution_count": 3,
   "metadata": {},
   "outputs": [],
   "source": [
    "#Load the data\n",
    "genes = pd.read_csv(\"./data/raw/genes.tsv\",sep=\"\\t\",skiprows=0,header=None)\n",
    "#Add to the Ann. object\n",
    "adata.var = genes\n",
    "#Add names to columns\n",
    "adata.var.columns = [\"ENS\",\"Gene\"]"
   ]
  },
  {
   "cell_type": "markdown",
   "metadata": {},
   "source": [
    "# Add the data of interest for the cells"
   ]
  },
  {
   "cell_type": "code",
   "execution_count": 4,
   "metadata": {},
   "outputs": [
    {
     "name": "stderr",
     "output_type": "stream",
     "text": [
      "/opt/conda/lib/python3.9/site-packages/IPython/core/interactiveshell.py:3172: DtypeWarning: Columns (27) have mixed types.Specify dtype option on import or set low_memory=False.\n",
      "  has_raised = await self.run_ast_nodes(code_ast.body, cell_name,\n"
     ]
    }
   ],
   "source": [
    "#Load the data\n",
    "cells = pd.read_csv(\"./data/raw/meta.tab\",sep=\"\\t\",skiprows=0)\n",
    "#Add only the essential information to the Ann. object\n",
    "adata.obs = cells.loc[:,[\"cell\",\"sample\",\"stage\"]]\n",
    "#Rename columns\n",
    "adata.obs.columns = [\"Cell\",\"Sample\",\"Stage\"]\n",
    "#Add a numerical staging of the data\n",
    "adata.obs.loc[adata.obs[\"Stage\"]!=\"mixed_gastrulation\",\"Stage_numeric\"] = [float(i[1:]) for i in adata.obs[\"Stage\"].values if i != \"mixed_gastrulation\"]\n",
    "adata.obs.loc[adata.obs[\"Stage\"]==\"mixed_gastrulation\",\"Stage_numeric\"] = -1"
   ]
  },
  {
   "cell_type": "markdown",
   "metadata": {},
   "source": [
    "# Make a copy of the raw data"
   ]
  },
  {
   "cell_type": "code",
   "execution_count": 5,
   "metadata": {},
   "outputs": [],
   "source": [
    "adata.obsm[\"Raw\"] = adata.X.copy()"
   ]
  },
  {
   "cell_type": "markdown",
   "metadata": {
    "tags": []
   },
   "source": [
    "# Save the file"
   ]
  },
  {
   "cell_type": "code",
   "execution_count": 6,
   "metadata": {},
   "outputs": [
    {
     "name": "stderr",
     "output_type": "stream",
     "text": [
      "... storing 'Stage' as categorical\n",
      "... storing 'Gene' as categorical\n"
     ]
    }
   ],
   "source": [
    "adata.write(\"./data/raw.h5ad\")"
   ]
  },
  {
   "cell_type": "code",
   "execution_count": null,
   "metadata": {},
   "outputs": [],
   "source": []
  }
 ],
 "metadata": {
  "kernelspec": {
   "display_name": "Python 3 (ipykernel)",
   "language": "python",
   "name": "python3"
  },
  "language_info": {
   "codemirror_mode": {
    "name": "ipython",
    "version": 3
   },
   "file_extension": ".py",
   "mimetype": "text/x-python",
   "name": "python",
   "nbconvert_exporter": "python",
   "pygments_lexer": "ipython3",
   "version": "3.9.7"
  },
  "toc": {
   "base_numbering": 1,
   "nav_menu": {},
   "number_sections": true,
   "sideBar": true,
   "skip_h1_title": false,
   "title_cell": "Table of Contents",
   "title_sidebar": "Contents",
   "toc_cell": false,
   "toc_position": {},
   "toc_section_display": true,
   "toc_window_display": false
  }
 },
 "nbformat": 4,
 "nbformat_minor": 4
}
